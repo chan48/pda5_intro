{
 "cells": [
  {
   "cell_type": "markdown",
   "metadata": {},
   "source": [
    "## Q2. 두 두자리 수의 곱중 가장 큰 팔린드롬은 9009 (91x99)이다.  <br> 두 세자리 수의 곱중 가장 큰 팔린드롬을 찾아 봅시다."
   ]
  },
  {
   "cell_type": "markdown",
   "metadata": {},
   "source": [
    "팔린드롬의 여부를 확인하는 함수를 작성한후, 3자리 곱을 하나씩 넣어서 가장 큰수를 찾아봅시다."
   ]
  },
  {
   "cell_type": "code",
   "execution_count": 4,
   "metadata": {
    "collapsed": true
   },
   "outputs": [],
   "source": [
    "def is_palindrome(num):\n",
    "    #문자열로 바꾼 num의 글자수를 셉니다.\n",
    "    num = str(num)\n",
    "    length = len(num)\n",
    "    \n",
    "    \n",
    "    for i in range(int(length / 2)):\n",
    "        #문자열의 앞뒤를 비교합니다.\n",
    "        if num[i] != num[length - i - 1]:\n",
    "            \"\"\"\n",
    "            num = '2332'\n",
    "            num[0] = 2\n",
    "            num[-1] = 2\n",
    "            \n",
    "            num[0] != num[-1]\n",
    "            False\n",
    "            \"\"\"\n",
    "            return False #순회도중 서로 다른값이 나오면 False를 반환하고 함수를 종료합니다.\n",
    "        \n",
    "    return True"
   ]
  },
  {
   "cell_type": "code",
   "execution_count": 5,
   "metadata": {
    "collapsed": false
   },
   "outputs": [
    {
     "data": {
      "text/plain": [
       "True"
      ]
     },
     "execution_count": 5,
     "metadata": {},
     "output_type": "execute_result"
    }
   ],
   "source": [
    "is_palindrome(232)"
   ]
  },
  {
   "cell_type": "code",
   "execution_count": 6,
   "metadata": {
    "collapsed": false
   },
   "outputs": [
    {
     "data": {
      "text/plain": [
       "False"
      ]
     },
     "execution_count": 6,
     "metadata": {},
     "output_type": "execute_result"
    }
   ],
   "source": [
    "is_palindrome(2345)"
   ]
  },
  {
   "cell_type": "code",
   "execution_count": null,
   "metadata": {
    "collapsed": true
   },
   "outputs": [],
   "source": []
  }
 ],
 "metadata": {
  "kernelspec": {
   "display_name": "Python 3",
   "language": "python",
   "name": "python3"
  },
  "language_info": {
   "codemirror_mode": {
    "name": "ipython",
    "version": 3
   },
   "file_extension": ".py",
   "mimetype": "text/x-python",
   "name": "python",
   "nbconvert_exporter": "python",
   "pygments_lexer": "ipython3",
   "version": "3.5.1"
  }
 },
 "nbformat": 4,
 "nbformat_minor": 0
}
